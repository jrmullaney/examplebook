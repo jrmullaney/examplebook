{
 "cells": [
  {
   "cell_type": "markdown",
   "id": "a8273cd3-8ae4-4745-b26d-8193d3728869",
   "metadata": {},
   "source": [
    "# Welcome\n",
    "Welcome to this example of a Jupyter Book."
   ]
  },
  {
   "cell_type": "code",
   "execution_count": null,
   "id": "28fa0573-2868-4180-8bd1-dce6c548e45a",
   "metadata": {},
   "outputs": [],
   "source": []
  }
 ],
 "metadata": {
  "kernelspec": {
   "display_name": "Python 3 (ipykernel)",
   "language": "python",
   "name": "python3"
  },
  "language_info": {
   "codemirror_mode": {
    "name": "ipython",
    "version": 3
   },
   "file_extension": ".py",
   "mimetype": "text/x-python",
   "name": "python",
   "nbconvert_exporter": "python",
   "pygments_lexer": "ipython3",
   "version": "3.11.5"
  }
 },
 "nbformat": 4,
 "nbformat_minor": 5
}
